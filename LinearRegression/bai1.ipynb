{
 "cells": [
  {
   "cell_type": "code",
   "execution_count": 2,
   "metadata": {},
   "outputs": [],
   "source": [
    "from operator import mod\n",
    "from statistics import mode\n",
    "import numpy as np\n",
    "import matplotlib.pyplot as plt\n",
    "from sklearn.linear_model import LinearRegression"
   ]
  },
  {
   "cell_type": "code",
   "execution_count": 3,
   "metadata": {},
   "outputs": [],
   "source": [
    "def model(x,a=2,b=1):\n",
    "    return a*x+b\n",
    "\n",
    "def MSE(y,y_hat):\n",
    "    m = len(y)\n",
    "    return np.sum((y-y_hat)**2)/m"
   ]
  },
  {
   "cell_type": "code",
   "execution_count": 5,
   "metadata": {},
   "outputs": [],
   "source": [
    "(X,y) = ([1,2,3,4,5],[1,3,2,4,4])\n",
    "X = np.array([X]).T\n",
    "ones = np.ones\n",
    "y = np.array([y]).T"
   ]
  },
  {
   "cell_type": "code",
   "execution_count": 6,
   "metadata": {},
   "outputs": [
    {
     "name": "stdout",
     "output_type": "stream",
     "text": [
      "Cau a: MSE =  21.4\n"
     ]
    }
   ],
   "source": [
    "predict_a = model(X)\n",
    "print(\"Cau a: MSE = \",MSE(y,predict_a))"
   ]
  },
  {
   "cell_type": "code",
   "execution_count": 9,
   "metadata": {},
   "outputs": [
    {
     "name": "stdout",
     "output_type": "stream",
     "text": [
      "Cau b =  253.2\n"
     ]
    }
   ],
   "source": [
    "a = float(input(\"Nhap a: \"))\n",
    "b = float(input(\"Nhap b: \"))\n",
    "predict_b = model(X,a=a,b=b)\n",
    "print(\"Cau b = \",MSE(y,predict_b))"
   ]
  },
  {
   "cell_type": "code",
   "execution_count": 12,
   "metadata": {},
   "outputs": [
    {
     "name": "stdout",
     "output_type": "stream",
     "text": [
      "Coefficient =  [[0.7]]\n",
      "Intercept =  [0.7]\n",
      "Score =  0.7205882352941175\n",
      "Cau c =  0.3800000000000001\n"
     ]
    }
   ],
   "source": [
    "model = LinearRegression()\n",
    "model.fit(X,y)\n",
    "a = model.coef_\n",
    "b = model.intercept_\n",
    "print(\"Coefficient = \",a)\n",
    "print(\"Intercept = \",b)\n",
    "print(\"Score = \",model.score(X,y))\n",
    "predict_c = model.predict(X)\n",
    "print(\"Cau c = \",MSE(y,predict_c))"
   ]
  }
 ],
 "metadata": {
  "interpreter": {
   "hash": "dea7d2a8832d14dc1618e74ed0ecd6aa67efcc6d774d08d88ed9a3b62b8fb5ca"
  },
  "kernelspec": {
   "display_name": "Python 3.9.12 ('tung')",
   "language": "python",
   "name": "python3"
  },
  "language_info": {
   "codemirror_mode": {
    "name": "ipython",
    "version": 3
   },
   "file_extension": ".py",
   "mimetype": "text/x-python",
   "name": "python",
   "nbconvert_exporter": "python",
   "pygments_lexer": "ipython3",
   "version": "3.9.12"
  },
  "orig_nbformat": 4
 },
 "nbformat": 4,
 "nbformat_minor": 2
}
