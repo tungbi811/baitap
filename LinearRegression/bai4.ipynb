{
 "cells": [
  {
   "cell_type": "code",
   "execution_count": 2,
   "metadata": {},
   "outputs": [],
   "source": [
    "import pandas as pd\n",
    "import numpy as np\n",
    "import matplotlib.pyplot as plt\n",
    "from sklearn.linear_model import LinearRegression"
   ]
  },
  {
   "cell_type": "code",
   "execution_count": 3,
   "metadata": {},
   "outputs": [],
   "source": [
    "def MSE(a,b,X,y):\n",
    "    y_hat = a*X+b\n",
    "    m = len(y)\n",
    "    return np.sum((y-y_hat)**2)/m"
   ]
  },
  {
   "cell_type": "code",
   "execution_count": 5,
   "metadata": {},
   "outputs": [
    {
     "name": "stdout",
     "output_type": "stream",
     "text": [
      "[[   1.00000199 -100.00022214]]\n",
      "[2000.00579425]\n",
      "Model is quite good but it seems overfit\n"
     ]
    },
    {
     "data": {
      "image/png": "[encoded data removed]",
      "text/plain": [
       "<Figure size 432x288 with 1 Axes>"
      ]
     },
     "metadata": {
      "needs_background": "light"
     },
     "output_type": "display_data"
    }
   ],
   "source": [
    "data = pd.read_csv('data/data_square.csv')\n",
    "\n",
    "X = data[\"Diện tích\"]\n",
    "y = data[\"Giá nhà\"]\n",
    "\n",
    "X = np.array([X]).T\n",
    "y = np.array([y]).T\n",
    "\n",
    "\n",
    "plt.figure(\"Bai 4\")\n",
    "plt.scatter(X,y)\n",
    "\n",
    "X = np.concatenate((X**2,X),axis=1)\n",
    "\n",
    "model = LinearRegression()\n",
    "model.fit(X,y)\n",
    "print(model.coef_)\n",
    "print(model.intercept_)\n",
    "\n",
    "X_new = np.array([np.linspace(30,100,5000)]).T\n",
    "X_modify = np.concatenate((X_new**2,X_new),axis=1)\n",
    "plt.plot(X_new,model.predict(X_modify),'-r')\n",
    "print(\"Model is quite good but it seems overfit\")\n",
    "plt.show()"
   ]
  }
 ],
 "metadata": {
  "interpreter": {
   "hash": "dea7d2a8832d14dc1618e74ed0ecd6aa67efcc6d774d08d88ed9a3b62b8fb5ca"
  },
  "kernelspec": {
   "display_name": "Python 3.9.12 ('tung')",
   "language": "python",
   "name": "python3"
  },
  "language_info": {
   "codemirror_mode": {
    "name": "ipython",
    "version": 3
   },
   "file_extension": ".py",
   "mimetype": "text/x-python",
   "name": "python",
   "nbconvert_exporter": "python",
   "pygments_lexer": "ipython3",
   "version": "3.9.12"
  },
  "orig_nbformat": 4
 },
 "nbformat": 4,
 "nbformat_minor": 2
}
