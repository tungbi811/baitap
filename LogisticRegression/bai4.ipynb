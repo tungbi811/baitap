{
 "cells": [
  {
   "cell_type": "code",
   "execution_count": 1,
   "metadata": {},
   "outputs": [],
   "source": [
    "import numpy as np\n",
    "from sklearn.datasets import load_digits\n",
    "from sklearn.model_selection import train_test_split\n",
    "from sklearn.linear_model import LogisticRegression\n",
    "from sklearn.metrics import accuracy_score,precision_score,recall_score,f1_score,confusion_matrix,classification_report"
   ]
  },
  {
   "cell_type": "code",
   "execution_count": 3,
   "metadata": {},
   "outputs": [
    {
     "name": "stderr",
     "output_type": "stream",
     "text": [
      "c:\\Users\\ADMIN\\anaconda3\\envs\\tung\\lib\\site-packages\\sklearn\\linear_model\\_logistic.py:444: ConvergenceWarning: lbfgs failed to converge (status=1):\n",
      "STOP: TOTAL NO. of ITERATIONS REACHED LIMIT.\n",
      "\n",
      "Increase the number of iterations (max_iter) or scale the data as shown in:\n",
      "    https://scikit-learn.org/stable/modules/preprocessing.html\n",
      "Please also refer to the documentation for alternative solver options:\n",
      "    https://scikit-learn.org/stable/modules/linear_model.html#logistic-regression\n",
      "  n_iter_i = _check_optimize_result(\n"
     ]
    }
   ],
   "source": [
    "digits = load_digits()\n",
    "X = digits.data\n",
    "y = digits.target\n",
    "\n",
    "randIndex = np.arange(X.shape[0])\n",
    "np.random.shuffle(randIndex)\n",
    "\n",
    "X = X[randIndex]\n",
    "y = y[randIndex]\n",
    "\n",
    "X_train, X_test, y_train, y_test = train_test_split(X, y, test_size=540)\n",
    "\n",
    "model = LogisticRegression()\n",
    "model.fit(X_train,y_train)\n",
    "\n",
    "y_test_pred = model.predict(X_test)"
   ]
  },
  {
   "cell_type": "code",
   "execution_count": 4,
   "metadata": {},
   "outputs": [
    {
     "name": "stdout",
     "output_type": "stream",
     "text": [
      "Accuracy on test set:  0.9611111111111111\n",
      "Precision on test set:  0.9611111111111111\n",
      "Recall on test set:  0.9611111111111111\n",
      "F1 on test set:  0.9611111111111111\n",
      "Classification report on test set:                precision    recall  f1-score   support\n",
      "\n",
      "           0       1.00      0.98      0.99        48\n",
      "           1       0.91      0.94      0.93        68\n",
      "           2       1.00      0.96      0.98        57\n",
      "           3       1.00      0.98      0.99        51\n",
      "           4       0.98      0.96      0.97        54\n",
      "           5       0.94      1.00      0.97        45\n",
      "           6       1.00      0.95      0.97        58\n",
      "           7       1.00      0.96      0.98        51\n",
      "           8       0.92      0.89      0.91        55\n",
      "           9       0.88      1.00      0.94        53\n",
      "\n",
      "    accuracy                           0.96       540\n",
      "   macro avg       0.96      0.96      0.96       540\n",
      "weighted avg       0.96      0.96      0.96       540\n",
      "\n",
      "Confusion Matrix on test set:  [[47  0  0  0  0  1  0  0  0  0]\n",
      " [ 0 64  0  0  0  0  0  0  1  3]\n",
      " [ 0  1 55  0  0  0  0  0  1  0]\n",
      " [ 0  0  0 50  0  0  0  0  0  1]\n",
      " [ 0  1  0  0 52  0  0  0  1  0]\n",
      " [ 0  0  0  0  0 45  0  0  0  0]\n",
      " [ 0  0  0  0  1  1 55  0  1  0]\n",
      " [ 0  0  0  0  0  0  0 49  0  2]\n",
      " [ 0  4  0  0  0  1  0  0 49  1]\n",
      " [ 0  0  0  0  0  0  0  0  0 53]]\n"
     ]
    }
   ],
   "source": [
    "print(\"Accuracy on test set: \",accuracy_score(y_test,y_test_pred)) # Accuracy = TP+TN/TP+FP+FN+TN\n",
    "print(\"Precision on test set: \",precision_score(y_test,y_test_pred,average='micro')) # Precision = TP/TP+FP\n",
    "print(\"Recall on test set: \",recall_score(y_test,y_test_pred,average='micro')) # Recall = TP/TP+FN\n",
    "print(\"F1 on test set: \",f1_score(y_test,y_test_pred,average='micro')) # F1 Score = 2*(Recall * Precision) / (Recall + Precision)\n",
    "print(\"Classification report on test set: \",classification_report(y_test,y_test_pred))\n",
    "print(\"Confusion Matrix on test set: \",confusion_matrix(y_test,y_test_pred))"
   ]
  }
 ],
 "metadata": {
  "interpreter": {
   "hash": "dea7d2a8832d14dc1618e74ed0ecd6aa67efcc6d774d08d88ed9a3b62b8fb5ca"
  },
  "kernelspec": {
   "display_name": "Python 3.9.12 ('tung')",
   "language": "python",
   "name": "python3"
  },
  "language_info": {
   "codemirror_mode": {
    "name": "ipython",
    "version": 3
   },
   "file_extension": ".py",
   "mimetype": "text/x-python",
   "name": "python",
   "nbconvert_exporter": "python",
   "pygments_lexer": "ipython3",
   "version": "3.9.12"
  },
  "orig_nbformat": 4
 },
 "nbformat": 4,
 "nbformat_minor": 2
}
