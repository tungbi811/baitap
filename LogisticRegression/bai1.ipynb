{
 "cells": [
  {
   "cell_type": "code",
   "execution_count": 1,
   "metadata": {},
   "outputs": [],
   "source": [
    "import math"
   ]
  },
  {
   "cell_type": "code",
   "execution_count": 2,
   "metadata": {},
   "outputs": [],
   "source": [
    "def sigmoid(z):\n",
    "    return 1/(1+math.exp(-z))"
   ]
  },
  {
   "cell_type": "code",
   "execution_count": 6,
   "metadata": {},
   "outputs": [
    {
     "name": "stdout",
     "output_type": "stream",
     "text": [
      "X: -4 -> sigmoid(X):  0.01798620996209156\n",
      "X: -2 -> sigmoid(X):  0.11920292202211755\n",
      "X: -1 -> sigmoid(X):  0.2689414213699951\n",
      "X: 0 -> sigmoid(X):  0.5\n",
      "X: 1 -> sigmoid(X):  0.7310585786300049\n",
      "X: 3 -> sigmoid(X):  0.9525741268224334\n",
      "X: 6 -> sigmoid(X):  0.9975273768433653\n"
     ]
    }
   ],
   "source": [
    "X = [-4, -2, -1, 0, 1, 3, 6]\n",
    "for i in range(len(X)):\n",
    "    print(\"X:\",X[i],\"-> sigmoid(X): \",sigmoid(X[i]))"
   ]
  }
 ],
 "metadata": {
  "interpreter": {
   "hash": "dea7d2a8832d14dc1618e74ed0ecd6aa67efcc6d774d08d88ed9a3b62b8fb5ca"
  },
  "kernelspec": {
   "display_name": "Python 3.9.12 ('tung')",
   "language": "python",
   "name": "python3"
  },
  "language_info": {
   "codemirror_mode": {
    "name": "ipython",
    "version": 3
   },
   "file_extension": ".py",
   "mimetype": "text/x-python",
   "name": "python",
   "nbconvert_exporter": "python",
   "pygments_lexer": "ipython3",
   "version": "3.9.12"
  },
  "orig_nbformat": 4
 },
 "nbformat": 4,
 "nbformat_minor": 2
}
