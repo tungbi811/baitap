{
 "cells": [
  {
   "cell_type": "markdown",
   "metadata": {},
   "source": [
    "# Bài 1  \n",
    "Viết thêm vào chỗ các comment để function hoạt động  \n",
    "tensor_1x2 = concat tensor_1 và tensor_2 (phải có preprocess với torch.squeeze())  \n",
    "tensor_out = tích của tensor_1x2 và tensor_3 (bỏ đi 1 dimension)  \n",
    "sum_bigger = tổng số lượng các phần tử trong tensor_out lớn hơn tensor_4  "
   ]
  },
  {
   "cell_type": "code",
   "execution_count": 2,
   "metadata": {},
   "outputs": [
    {
     "name": "stdout",
     "output_type": "stream",
     "text": [
      "torch.Size([3, 255, 260, 3])\n",
      "torch.Size([3, 255, 260])\n"
     ]
    }
   ],
   "source": [
    "import torch\n",
    "def function(input_value):\n",
    "    tensor_1 = torch.randn(3, 1, 1, 255, 260, input_value)\n",
    "    tensor_2 = torch.randn(3, 255, 260, 100)\n",
    "    tensor_3 = torch.randn(3, 255, 260)\n",
    "    tensor_4 = torch.randn(18, 500)\n",
    "\n",
    "    tensor_1 = torch.squeeze(tensor_1)    \n",
    "    # tensor_1x2 = torch.concat([tensor_1,tensor_2])#concat tensor_1 and tensor_2\n",
    "    # tensor_out = torch.matmul(tensor_1x2,tensor_3)#matmul tensor_1x2 and tensor_3\n",
    "    # sum_bigger = torch.sum(tensor_out>tensor_4)#calculate number of value in tensor_out bigger than tensor_4\n",
    "\n",
    "    # return sum_bigger.item()  \n",
    "    return tensor_1\n",
    "\n",
    "input_values = [3, 1]\n",
    "for input_value in input_values:\n",
    "    print(function(input_value).shape) \n"
   ]
  },
  {
   "cell_type": "markdown",
   "metadata": {},
   "source": [
    "# Bài 2  \n",
    "Tạo 1 class customer dataset là class con của Dataset có nhiệm vụ đọc thông tin từ file data.csv  \n",
    "class dataset trả 3 thông tin name, title và label"
   ]
  },
  {
   "cell_type": "code",
   "execution_count": 3,
   "metadata": {},
   "outputs": [
    {
     "name": "stdout",
     "output_type": "stream",
     "text": [
      "Giang Giang coi 1\n",
      "Giang Giang beo 1\n",
      "Hoang sota 1\n",
      "Chien dai gai 1\n"
     ]
    }
   ],
   "source": [
    "from torch.utils.data import Dataset\n",
    "import pandas as pd\n",
    "import numpy as np\n",
    "\n",
    "class MyDataset(Dataset):\n",
    "    def __init__(self, csv_file):\n",
    "        super(MyDataset,self).__init__()\n",
    "        self.data = pd.read_csv(csv_file)\n",
    "\n",
    "    def __len__(self):\n",
    "        return len(self.data)\n",
    "    \n",
    "    def __getitem__(self, index):\n",
    "        self.data = np.array(self.data)\n",
    "        return self.data[index]\n",
    "\n",
    "data = MyDataset('data.csv')\n",
    "\n",
    "for items in data:\n",
    "    name, title, label = items\n",
    "    print(name, title, label)#ie Giang Giang coi 1"
   ]
  },
  {
   "cell_type": "markdown",
   "metadata": {},
   "source": [
    "# Bài 3  \n",
    "Xây dựng model theo cấu trúc dưới đây  \n",
    "<img src=\"sample.png\">"
   ]
  },
  {
   "cell_type": "code",
   "execution_count": 10,
   "metadata": {},
   "outputs": [
    {
     "name": "stdout",
     "output_type": "stream",
     "text": [
      "torch.Size([1, 3])\n"
     ]
    }
   ],
   "source": [
    "import torch.nn as nn\n",
    "import torch.nn.functional as F\n",
    "class MyModel(nn.Module):\n",
    "    def __init__(self):\n",
    "        super().__init__()\n",
    "        self.conv1 = nn.Conv2d(3,16,(3,3),stride=1,padding=1)\n",
    "        self.conv2 = nn.Conv2d(16,32,(3,3),stride=1,padding=1)\n",
    "        self.fc = nn.Linear(100352,3)\n",
    "\n",
    "    def forward(self, x):\n",
    "        x = F.relu(self.conv1(x))\n",
    "        x = F.max_pool2d(x,(2,2))\n",
    "        x = F.relu(self.conv2(x))\n",
    "        x = F.max_pool2d(x,(2,2))\n",
    "        x = nn.Flatten(1,-1)(x)\n",
    "        x = self.fc(x)\n",
    "        return x\n",
    "\n",
    "input = torch.randn(1, 3, 224, 224)\n",
    "model = MyModel()\n",
    "out = model(input)\n",
    "print(out.shape) # Size 1, 3"
   ]
  },
  {
   "cell_type": "markdown",
   "metadata": {},
   "source": [
    "# Bài 4  \n",
    "Sửa model để trả về kết quả match với số lượng lớp của mình"
   ]
  },
  {
   "cell_type": "code",
   "execution_count": 12,
   "metadata": {},
   "outputs": [
    {
     "name": "stdout",
     "output_type": "stream",
     "text": [
      "torch.Size([1, 3])\n"
     ]
    }
   ],
   "source": [
    "import torch.nn as nn\n",
    "from torchvision import models\n",
    "class MyModel(nn.Module):\n",
    "    def __init__(self, num_classes):\n",
    "        super().__init__()\n",
    "        self.network = models.resnet50()\n",
    "        self.network.fc = nn.Linear(2048,num_classes)\n",
    "\n",
    "    def forward(self, x):\n",
    "        return self.network(x)\n",
    "\n",
    "input = torch.randn(1, 3, 224, 224)\n",
    "model = MyModel(num_classes = 3)\n",
    "out = model(input)\n",
    "print(out.shape) # Size 1, 3\n"
   ]
  }
 ],
 "metadata": {
  "interpreter": {
   "hash": "dea7d2a8832d14dc1618e74ed0ecd6aa67efcc6d774d08d88ed9a3b62b8fb5ca"
  },
  "kernelspec": {
   "display_name": "Python 3.9.12 ('tung')",
   "language": "python",
   "name": "python3"
  },
  "language_info": {
   "codemirror_mode": {
    "name": "ipython",
    "version": 3
   },
   "file_extension": ".py",
   "mimetype": "text/x-python",
   "name": "python",
   "nbconvert_exporter": "python",
   "pygments_lexer": "ipython3",
   "version": "3.9.12"
  },
  "orig_nbformat": 4
 },
 "nbformat": 4,
 "nbformat_minor": 2
}
