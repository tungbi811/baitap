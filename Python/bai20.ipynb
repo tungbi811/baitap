{
 "cells": [
  {
   "cell_type": "code",
   "execution_count": 1,
   "metadata": {},
   "outputs": [
    {
     "name": "stdout",
     "output_type": "stream",
     "text": [
      "Interface ethernet0 is up\n",
      "Interface ethernet1 is down\n",
      "Interface serial0 is down\n",
      "Interface serial1 is up \n",
      "2\n",
      "['ethernet0', 'serial1']\n"
     ]
    }
   ],
   "source": [
    "s = '''Inteface ethernet0 is up\n",
    "Inteface ethernet1 is down\n",
    "Inteface serial0 is down\n",
    "Inteface serial1 is up '''\n",
    "\n",
    "print(s.replace(\"Inteface\",\"Interface\"))\n",
    "print(s.count(\"up\"))\n",
    "name = []\n",
    "for sentence in s.split(\"\\n\"):\n",
    "    if sentence.strip().endswith(\"up\"):\n",
    "        words = sentence.split(\" \")\n",
    "        name.append(words[1])\n",
    "print(name)"
   ]
  }
 ],
 "metadata": {
  "interpreter": {
   "hash": "dea7d2a8832d14dc1618e74ed0ecd6aa67efcc6d774d08d88ed9a3b62b8fb5ca"
  },
  "kernelspec": {
   "display_name": "Python 3.9.12 ('tung')",
   "language": "python",
   "name": "python3"
  },
  "language_info": {
   "codemirror_mode": {
    "name": "ipython",
    "version": 3
   },
   "file_extension": ".py",
   "mimetype": "text/x-python",
   "name": "python",
   "nbconvert_exporter": "python",
   "pygments_lexer": "ipython3",
   "version": "3.9.12"
  },
  "orig_nbformat": 4
 },
 "nbformat": 4,
 "nbformat_minor": 2
}
