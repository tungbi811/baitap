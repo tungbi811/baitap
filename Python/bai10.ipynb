{
 "cells": [
  {
   "cell_type": "code",
   "execution_count": 3,
   "metadata": {},
   "outputs": [
    {
     "name": "stdout",
     "output_type": "stream",
     "text": [
      "{'tun': 1, 'tung': 2, 't': 3}\n",
      "tung : 2\n",
      "Product has most:  ['t']\n"
     ]
    }
   ],
   "source": [
    "# Cho người dùng nhập tên sản phẩm và số lượng sản phẩm cho đến khi người dùng nhập tên là \"end\" thì kết thúc vòng lặp. \n",
    "# Lưu dữ liệu dạng dict: tên_sản phẩm: số lượng. Nếu sản phẩm có rồi thì cộng dồn số lượng sản phẩm, nếu chưa có thì thêm mới vào dict.\n",
    "# a. Cho người dùng nhập tên sản phẩm in ra số lượng, nếu tên không có báo không có sản phẩm này.\n",
    "# b. In ra các sản phẩm có số lượng lớn nhất.\n",
    "\n",
    "dic = {}\n",
    "\n",
    "while True:\n",
    "    product = input(\"Enter name of product: \").strip()\n",
    "    if product.lower() == \"end\":\n",
    "        break\n",
    "    dic[product] = dic.get(product,0)+1\n",
    "    \n",
    "print(dic)\n",
    "\n",
    "product = input(\"Enter name of product to check amount: \")\n",
    "if product in dic.keys():\n",
    "    print(product,\":\",dic[product])\n",
    "else:\n",
    "    print(\"There is nothing have name: \",product)\n",
    "\n",
    "max_value = max(dic.values())\n",
    "max_lst = []\n",
    "for product in dic.keys():\n",
    "    if dic[product] == max_value:\n",
    "        max_lst.append(product)\n",
    "\n",
    "print(\"Product has most: \",max_lst)"
   ]
  }
 ],
 "metadata": {
  "interpreter": {
   "hash": "dea7d2a8832d14dc1618e74ed0ecd6aa67efcc6d774d08d88ed9a3b62b8fb5ca"
  },
  "kernelspec": {
   "display_name": "Python 3.9.12 ('tung')",
   "language": "python",
   "name": "python3"
  },
  "language_info": {
   "codemirror_mode": {
    "name": "ipython",
    "version": 3
   },
   "file_extension": ".py",
   "mimetype": "text/x-python",
   "name": "python",
   "nbconvert_exporter": "python",
   "pygments_lexer": "ipython3",
   "version": "3.9.12"
  },
  "orig_nbformat": 4
 },
 "nbformat": 4,
 "nbformat_minor": 2
}
