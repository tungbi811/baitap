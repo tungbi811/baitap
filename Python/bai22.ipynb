{
 "cells": [
  {
   "cell_type": "code",
   "execution_count": 1,
   "metadata": {},
   "outputs": [
    {
     "name": "stdout",
     "output_type": "stream",
     "text": [
      "[[1. 1.]\n",
      " [1. 1.]\n",
      " [1. 1.]]\n",
      "[[6 4]\n",
      " [5 4]\n",
      " [1 3]]\n",
      "A+B=\n",
      " [[7. 5.]\n",
      " [6. 5.]\n",
      " [2. 4.]]\n",
      "A-B=\n",
      " [[-5. -3.]\n",
      " [-4. -3.]\n",
      " [ 0. -2.]]\n",
      "A*B=\n",
      " [[6. 4.]\n",
      " [5. 4.]\n",
      " [1. 3.]]\n",
      "A/B=\n",
      " [[0.16666667 0.25      ]\n",
      " [0.2        0.25      ]\n",
      " [1.         0.33333333]]\n",
      "A . B = \n",
      " [[10.  9.  4.]\n",
      " [10.  9.  4.]\n",
      " [10.  9.  4.]]\n"
     ]
    }
   ],
   "source": [
    "import numpy as np\n",
    "\n",
    "A = np.ones((3,2))\n",
    "print(A)\n",
    "\n",
    "B = np.random.randint(1,7,(3,2))\n",
    "print(B)\n",
    "\n",
    "print(\"A+B=\\n\",A+B)\n",
    "print(\"A-B=\\n\",A-B)\n",
    "print(\"A*B=\\n\",A*B)\n",
    "print(\"A/B=\\n\",A/B)\n",
    "\n",
    "print(\"A . B = \\n\",A@B.T)"
   ]
  }
 ],
 "metadata": {
  "interpreter": {
   "hash": "dea7d2a8832d14dc1618e74ed0ecd6aa67efcc6d774d08d88ed9a3b62b8fb5ca"
  },
  "kernelspec": {
   "display_name": "Python 3.9.12 ('tung')",
   "language": "python",
   "name": "python3"
  },
  "language_info": {
   "codemirror_mode": {
    "name": "ipython",
    "version": 3
   },
   "file_extension": ".py",
   "mimetype": "text/x-python",
   "name": "python",
   "nbconvert_exporter": "python",
   "pygments_lexer": "ipython3",
   "version": "3.9.12"
  },
  "orig_nbformat": 4
 },
 "nbformat": 4,
 "nbformat_minor": 2
}
