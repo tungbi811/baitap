{
 "cells": [
  {
   "cell_type": "code",
   "execution_count": 1,
   "metadata": {},
   "outputs": [
    {
     "name": "stdout",
     "output_type": "stream",
     "text": [
      "[[59 55  2 93]\n",
      " [39 61 93 79]\n",
      " [20 57 86 48]]\n",
      "[[209]\n",
      " [272]\n",
      " [211]]\n",
      "[[118 173 181 220]]\n",
      "[[59 55  2 93]\n",
      " [39 61 93 79]]\n",
      "[[ 2 93]\n",
      " [93 79]\n",
      " [86 48]]\n"
     ]
    }
   ],
   "source": [
    "import numpy as np\n",
    "\n",
    "A = np.random.randint(100,size=(3,4))\n",
    "print(A)\n",
    "print(np.sum(A,1,keepdims=True))\n",
    "print(np.sum(A,0,keepdims=True))\n",
    "print(A[:2])\n",
    "print(A[:,2:])"
   ]
  }
 ],
 "metadata": {
  "interpreter": {
   "hash": "dea7d2a8832d14dc1618e74ed0ecd6aa67efcc6d774d08d88ed9a3b62b8fb5ca"
  },
  "kernelspec": {
   "display_name": "Python 3.9.12 ('tung')",
   "language": "python",
   "name": "python3"
  },
  "language_info": {
   "codemirror_mode": {
    "name": "ipython",
    "version": 3
   },
   "file_extension": ".py",
   "mimetype": "text/x-python",
   "name": "python",
   "nbconvert_exporter": "python",
   "pygments_lexer": "ipython3",
   "version": "3.9.12"
  },
  "orig_nbformat": 4
 },
 "nbformat": 4,
 "nbformat_minor": 2
}
