{
 "cells": [
  {
   "cell_type": "code",
   "execution_count": 1,
   "metadata": {},
   "outputs": [
    {
     "name": "stdout",
     "output_type": "stream",
     "text": [
      "{'N': 1, 'g': 2, 'u': 3, 'y': 2, 'e': 1, 'n': 2, ' ': 2, 'D': 1, 'T': 1}\n"
     ]
    }
   ],
   "source": [
    "input = input(\"Enter a string: \")\n",
    "dic = dict()\n",
    "\n",
    "for c in input:\n",
    "    dic[c] = dic.get(c,0)+1\n",
    "\n",
    "print(dic)"
   ]
  }
 ],
 "metadata": {
  "interpreter": {
   "hash": "dea7d2a8832d14dc1618e74ed0ecd6aa67efcc6d774d08d88ed9a3b62b8fb5ca"
  },
  "kernelspec": {
   "display_name": "Python 3.9.12 ('tung')",
   "language": "python",
   "name": "python3"
  },
  "language_info": {
   "codemirror_mode": {
    "name": "ipython",
    "version": 3
   },
   "file_extension": ".py",
   "mimetype": "text/x-python",
   "name": "python",
   "nbconvert_exporter": "python",
   "pygments_lexer": "ipython3",
   "version": "3.9.12"
  },
  "orig_nbformat": 4
 },
 "nbformat": 4,
 "nbformat_minor": 2
}
