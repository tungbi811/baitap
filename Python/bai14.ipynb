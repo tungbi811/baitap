{
 "cells": [
  {
   "cell_type": "code",
   "execution_count": 1,
   "metadata": {},
   "outputs": [
    {
     "name": "stdout",
     "output_type": "stream",
     "text": [
      "flying\n"
     ]
    }
   ],
   "source": [
    "verb = input(\"Input a verb: \")\n",
    "consonant = ['u','e','o','a','i']\n",
    "\n",
    "if verb.endswith(\"ie\"):\n",
    "    v_ing = verb[:-2]+\"y\"+\"ing\"\n",
    "elif verb.endswith(\"e\"):\n",
    "    v_ing = verb[:-1]+\"ing\"\n",
    "elif verb[-1] in consonant:\n",
    "    v_ing = verb+verb[-1]+\"ing\"\n",
    "else:\n",
    "    v_ing = verb+\"ing\"\n",
    "\n",
    "print(v_ing)"
   ]
  }
 ],
 "metadata": {
  "interpreter": {
   "hash": "dea7d2a8832d14dc1618e74ed0ecd6aa67efcc6d774d08d88ed9a3b62b8fb5ca"
  },
  "kernelspec": {
   "display_name": "Python 3.9.12 ('tung')",
   "language": "python",
   "name": "python3"
  },
  "language_info": {
   "codemirror_mode": {
    "name": "ipython",
    "version": 3
   },
   "file_extension": ".py",
   "mimetype": "text/x-python",
   "name": "python",
   "nbconvert_exporter": "python",
   "pygments_lexer": "ipython3",
   "version": "3.9.12"
  },
  "orig_nbformat": 4
 },
 "nbformat": 4,
 "nbformat_minor": 2
}
