{
 "cells": [
  {
   "cell_type": "code",
   "execution_count": 1,
   "metadata": {},
   "outputs": [
    {
     "name": "stdout",
     "output_type": "stream",
     "text": [
      "['elephant', 'ant', 'dog']\n",
      "['elephant', 'ant', 'dog', 'cat']\n",
      "['elephant', 'ant', 'dolphin', 'dog', 'cat']\n",
      "['elephant', 'dolphin', 'dog', 'cat']\n",
      "['elephant', 'dolphin', 'dog']\n"
     ]
    }
   ],
   "source": [
    "animals = ['elephant','ant','dog']\n",
    "print(animals)\n",
    "\n",
    "animals.append('cat')\n",
    "print(animals)\n",
    "animals.insert(2,'dolphin')\n",
    "print(animals)\n",
    "animals.remove('ant')\n",
    "print(animals)\n",
    "animals.remove(animals[-1])\n",
    "print(animals)"
   ]
  }
 ],
 "metadata": {
  "interpreter": {
   "hash": "dea7d2a8832d14dc1618e74ed0ecd6aa67efcc6d774d08d88ed9a3b62b8fb5ca"
  },
  "kernelspec": {
   "display_name": "Python 3.9.12 ('tung')",
   "language": "python",
   "name": "python3"
  },
  "language_info": {
   "codemirror_mode": {
    "name": "ipython",
    "version": 3
   },
   "file_extension": ".py",
   "mimetype": "text/x-python",
   "name": "python",
   "nbconvert_exporter": "python",
   "pygments_lexer": "ipython3",
   "version": "3.9.12"
  },
  "orig_nbformat": 4
 },
 "nbformat": 4,
 "nbformat_minor": 2
}
