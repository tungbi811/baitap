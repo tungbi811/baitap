{
 "cells": [
  {
   "cell_type": "code",
   "execution_count": 1,
   "metadata": {},
   "outputs": [
    {
     "name": "stdout",
     "output_type": "stream",
     "text": [
      "[0.69160168 0.18279413 0.20544053 0.09750469 0.40664334 0.98730527\n",
      " 0.77534365 0.95501669 0.44302962 0.78026876]\n",
      "[[0.69160168 0.18279413]\n",
      " [0.20544053 0.09750469]\n",
      " [0.40664334 0.98730527]\n",
      " [0.77534365 0.95501669]\n",
      " [0.44302962 0.78026876]]\n",
      "[[1 2]\n",
      " [3 4]]\n",
      "[[2 1]\n",
      " [4 3]]\n"
     ]
    }
   ],
   "source": [
    "import numpy as np\n",
    "\n",
    "A = np.random.rand(10)\n",
    "print(A)\n",
    "A = A.reshape(5,2)\n",
    "print(A)\n",
    "\n",
    "B = np.array([[1,2],[3,4]])\n",
    "print(B)\n",
    "print(B[:,[1,0]])"
   ]
  }
 ],
 "metadata": {
  "interpreter": {
   "hash": "dea7d2a8832d14dc1618e74ed0ecd6aa67efcc6d774d08d88ed9a3b62b8fb5ca"
  },
  "kernelspec": {
   "display_name": "Python 3.9.12 ('tung')",
   "language": "python",
   "name": "python3"
  },
  "language_info": {
   "codemirror_mode": {
    "name": "ipython",
    "version": 3
   },
   "file_extension": ".py",
   "mimetype": "text/x-python",
   "name": "python",
   "nbconvert_exporter": "python",
   "pygments_lexer": "ipython3",
   "version": "3.9.12"
  },
  "orig_nbformat": 4
 },
 "nbformat": 4,
 "nbformat_minor": 2
}
