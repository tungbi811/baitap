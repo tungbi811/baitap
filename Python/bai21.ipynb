{
 "cells": [
  {
   "cell_type": "code",
   "execution_count": 1,
   "metadata": {},
   "outputs": [
    {
     "name": "stdout",
     "output_type": "stream",
     "text": [
      "[  12   11   32   34    5    4    4   12    3   56    7    8   34 2135\n",
      "    6]\n",
      "[12 -1 32 34 -1  4  4 12 -1 56 -1  8 34 -1  6]\n"
     ]
    }
   ],
   "source": [
    "import numpy as np\n",
    "\n",
    "x = np.array([12,11,32,34,5,4,4,12,3,56,7,8,34,2135,6])\n",
    "print(x)\n",
    "for i in range(len(x)):\n",
    "    if x[i]%2==1:\n",
    "        x[i]=-1\n",
    "print(x)"
   ]
  }
 ],
 "metadata": {
  "interpreter": {
   "hash": "dea7d2a8832d14dc1618e74ed0ecd6aa67efcc6d774d08d88ed9a3b62b8fb5ca"
  },
  "kernelspec": {
   "display_name": "Python 3.9.12 ('tung')",
   "language": "python",
   "name": "python3"
  },
  "language_info": {
   "codemirror_mode": {
    "name": "ipython",
    "version": 3
   },
   "file_extension": ".py",
   "mimetype": "text/x-python",
   "name": "python",
   "nbconvert_exporter": "python",
   "pygments_lexer": "ipython3",
   "version": "3.9.12"
  },
  "orig_nbformat": 4
 },
 "nbformat": 4,
 "nbformat_minor": 2
}
