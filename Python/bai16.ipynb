{
 "cells": [
  {
   "cell_type": "code",
   "execution_count": 1,
   "metadata": {},
   "outputs": [
    {
     "name": "stdout",
     "output_type": "stream",
     "text": [
      "Input:  The apple the apple\n",
      "Output:  The apple the banana\n"
     ]
    }
   ],
   "source": [
    "def find_all(string,substring):\n",
    "    lst = []\n",
    "    for i in range(len(string)):\n",
    "        if string[i:i+len(substring)] == substring:\n",
    "            lst.append(i)\n",
    "    return lst \n",
    "\n",
    "def replace(s,sub_string,replace_string,pos):\n",
    "    lst = find_all(s,sub_string)\n",
    "    if lst == []:\n",
    "        return s\n",
    "    if pos+1>len(s):\n",
    "        return s\n",
    "    else:\n",
    "        for i in range(len(lst)):\n",
    "            if i<pos:\n",
    "                continue\n",
    "            s = s[:lst[i]]+replace_string+s[lst[i]+len(sub_string):]\n",
    "        return s\n",
    "    \n",
    "str = input(\"Enter a string: \")\n",
    "sub = input(\"Enter a string want to replace: \")\n",
    "replace_str = input(\"Enter replace string: \")\n",
    "pos = int(input(\"Enter position: \"))\n",
    "print(\"Input: \",str)\n",
    "print(\"Output: \",replace(str,sub,replace_str,pos))"
   ]
  }
 ],
 "metadata": {
  "interpreter": {
   "hash": "dea7d2a8832d14dc1618e74ed0ecd6aa67efcc6d774d08d88ed9a3b62b8fb5ca"
  },
  "kernelspec": {
   "display_name": "Python 3.9.12 ('tung')",
   "language": "python",
   "name": "python3"
  },
  "language_info": {
   "codemirror_mode": {
    "name": "ipython",
    "version": 3
   },
   "file_extension": ".py",
   "mimetype": "text/x-python",
   "name": "python",
   "nbconvert_exporter": "python",
   "pygments_lexer": "ipython3",
   "version": "3.9.12"
  },
  "orig_nbformat": 4
 },
 "nbformat": 4,
 "nbformat_minor": 2
}
