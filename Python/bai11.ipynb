{
 "cells": [
  {
   "cell_type": "code",
   "execution_count": 1,
   "metadata": {},
   "outputs": [
    {
     "name": "stdout",
     "output_type": "stream",
     "text": [
      "Number of Upper letter:  3\n",
      "Number of Lower letter:  10\n",
      "Number of digits:  0\n",
      "Number of other letter:  2\n"
     ]
    }
   ],
   "source": [
    "import re\n",
    "input = input(\"Enter a string: \")\n",
    "\n",
    "print(\"Number of Upper letter: \",len(re.findall(\"[A-Z]\",input)))\n",
    "print(\"Number of Lower letter: \",len(re.findall(\"[a-z]\",input)))\n",
    "print(\"Number of digits: \",len(re.findall(\"[0-9]\",input)))\n",
    "print(\"Number of other letter: \",len(re.findall(\"[^a-zA-Z0-9]\",input)))"
   ]
  }
 ],
 "metadata": {
  "interpreter": {
   "hash": "dea7d2a8832d14dc1618e74ed0ecd6aa67efcc6d774d08d88ed9a3b62b8fb5ca"
  },
  "kernelspec": {
   "display_name": "Python 3.9.12 ('tung')",
   "language": "python",
   "name": "python3"
  },
  "language_info": {
   "codemirror_mode": {
    "name": "ipython",
    "version": 3
   },
   "file_extension": ".py",
   "mimetype": "text/x-python",
   "name": "python",
   "nbconvert_exporter": "python",
   "pygments_lexer": "ipython3",
   "version": "3.9.12"
  },
  "orig_nbformat": 4
 },
 "nbformat": 4,
 "nbformat_minor": 2
}
