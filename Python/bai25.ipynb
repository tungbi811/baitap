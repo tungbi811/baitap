{
 "cells": [
  {
   "cell_type": "code",
   "execution_count": 1,
   "metadata": {},
   "outputs": [
    {
     "name": "stdout",
     "output_type": "stream",
     "text": [
      "Number of product:  7\n",
      "Product has price > 50000:  ['Áo gió', 'Giày', 'Quần jean', 'Áo len']\n",
      "Product has income > 300000:  ['Quần thun', 'Áo gió', 'Tất', 'Áo len']\n"
     ]
    }
   ],
   "source": [
    "import numpy as np\n",
    "\n",
    "dataset = np.array([\n",
    "['Quần thun', 10, 50000],\n",
    "['Áo gió', 5, 90000],\n",
    "['Tất', 50, 8000],\n",
    "['Giày', 1, 200000],\n",
    "['Mũ', 1, 30000],['Quần jean', 3, 100000],\n",
    "['Áo len', 10, 100000],\n",
    "])\n",
    "\n",
    "print(\"Number of product: \",len(dataset))\n",
    "product_list = []\n",
    "for i in range(len(dataset)):\n",
    "    if int(dataset[i,2]) > 50000:\n",
    "        product_list.append(dataset[i,0])\n",
    "print(\"Product has price > 50000: \",product_list)\n",
    "product_list = []\n",
    "for i in range(len(dataset)):\n",
    "    if int(dataset[i,1])*int(dataset[i,2]) > 300000:\n",
    "        product_list.append(dataset[i,0])\n",
    "print(\"Product has income > 300000: \",product_list)\n"
   ]
  }
 ],
 "metadata": {
  "interpreter": {
   "hash": "dea7d2a8832d14dc1618e74ed0ecd6aa67efcc6d774d08d88ed9a3b62b8fb5ca"
  },
  "kernelspec": {
   "display_name": "Python 3.9.12 ('tung')",
   "language": "python",
   "name": "python3"
  },
  "language_info": {
   "codemirror_mode": {
    "name": "ipython",
    "version": 3
   },
   "file_extension": ".py",
   "mimetype": "text/x-python",
   "name": "python",
   "nbconvert_exporter": "python",
   "pygments_lexer": "ipython3",
   "version": "3.9.12"
  },
  "orig_nbformat": 4
 },
 "nbformat": 4,
 "nbformat_minor": 2
}
