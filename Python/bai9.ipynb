{
 "cells": [
  {
   "cell_type": "code",
   "execution_count": 2,
   "metadata": {},
   "outputs": [
    {
     "name": "stdout",
     "output_type": "stream",
     "text": [
      "Tung not in class\n",
      "{'Hoang': 8, 'Giang beo': 7, 'Giang gay': 9, 'meomeo': 10, 'Tung': 10}\n",
      "Students has highest score :  ['meomeo', 'Tung']\n",
      "Students has lowest score :  ['Giang beo']\n"
     ]
    }
   ],
   "source": [
    "scores = {'Hoang': 8, 'Giang beo': 7, 'Giang gay': 9, 'meomeo': 10}\n",
    "\n",
    "name = input(\"Nhap ten: \")\n",
    "name = name[0].upper() + name[1:]\n",
    "if name in scores.keys():\n",
    "    print(name,\":\",scores[name])\n",
    "else:\n",
    "    print(name,\"not in class\")\n",
    "    score = int(input(\"Enter score of \"+name+\": \"))\n",
    "    scores[name]  = score\n",
    "    print(scores)\n",
    "\n",
    "max = max(scores.values())\n",
    "min = min(scores.values())\n",
    "max_list = []\n",
    "min_list = []\n",
    "for key in scores.keys():\n",
    "    if scores[key] == max:\n",
    "        max_list.append(key)\n",
    "    if scores[key] == min:\n",
    "        min_list.append(key)\n",
    "\n",
    "print(\"Students has highest score : \",max_list)\n",
    "print(\"Students has lowest score : \",min_list)"
   ]
  }
 ],
 "metadata": {
  "interpreter": {
   "hash": "dea7d2a8832d14dc1618e74ed0ecd6aa67efcc6d774d08d88ed9a3b62b8fb5ca"
  },
  "kernelspec": {
   "display_name": "Python 3.9.12 ('tung')",
   "language": "python",
   "name": "python3"
  },
  "language_info": {
   "codemirror_mode": {
    "name": "ipython",
    "version": 3
   },
   "file_extension": ".py",
   "mimetype": "text/x-python",
   "name": "python",
   "nbconvert_exporter": "python",
   "pygments_lexer": "ipython3",
   "version": "3.9.12"
  },
  "orig_nbformat": 4
 },
 "nbformat": 4,
 "nbformat_minor": 2
}
