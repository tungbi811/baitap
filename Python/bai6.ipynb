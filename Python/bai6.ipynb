{
 "cells": [
  {
   "cell_type": "code",
   "execution_count": 1,
   "metadata": {},
   "outputs": [
    {
     "name": "stdout",
     "output_type": "stream",
     "text": [
      "{'name': 'Tuan', 'age': 18, 'salary': 8000, 'city': 'Ha Noi', 'job': 'IT'}\n",
      "8000\n",
      "{'name': 'Tuan', 'salary': 8000, 'city': 'Ha Noi', 'job': 'IT'}\n",
      "{'name': 'Tuan', 'salary': 10000, 'city': 'Ha Noi', 'job': 'IT'}\n"
     ]
    }
   ],
   "source": [
    "information = {\n",
    "\"name\": \"Tuan\",\n",
    "\"age\":18,\n",
    "\"salary\": 8000,\n",
    "\"city\": \"Ha Noi\"\n",
    "}\n",
    "\n",
    "information['job'] = 'IT'\n",
    "print(information)\n",
    "print(information[\"salary\"])\n",
    "information.pop(\"age\")\n",
    "print(information)\n",
    "information[\"salary\"] = 10000\n",
    "print(information)"
   ]
  }
 ],
 "metadata": {
  "interpreter": {
   "hash": "dea7d2a8832d14dc1618e74ed0ecd6aa67efcc6d774d08d88ed9a3b62b8fb5ca"
  },
  "kernelspec": {
   "display_name": "Python 3.9.12 ('tung')",
   "language": "python",
   "name": "python3"
  },
  "language_info": {
   "codemirror_mode": {
    "name": "ipython",
    "version": 3
   },
   "file_extension": ".py",
   "mimetype": "text/x-python",
   "name": "python",
   "nbconvert_exporter": "python",
   "pygments_lexer": "ipython3",
   "version": "3.9.12"
  },
  "orig_nbformat": 4
 },
 "nbformat": 4,
 "nbformat_minor": 2
}
