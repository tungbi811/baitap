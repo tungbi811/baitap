{
 "cells": [
  {
   "cell_type": "code",
   "execution_count": 1,
   "metadata": {},
   "outputs": [
    {
     "name": "stdout",
     "output_type": "stream",
     "text": [
      "{1: 4, 2: 2, 3: 1, 4: 1}\n",
      "Number appear most:  [1]\n",
      "Number appear lease:  [3, 4]\n",
      "Average value of dict:  2.0\n"
     ]
    }
   ],
   "source": [
    "dic = {}\n",
    "nums = [1, 2, 3, 1, 2, 1, 1,4]\n",
    "for num in nums:\n",
    "    dic[num] = dic.get(num,0)+1\n",
    "\n",
    "print(dic)\n",
    "\n",
    "max_value = max(dic.values())\n",
    "min_value = min(dic.values())\n",
    "max_list = []\n",
    "min_list = []\n",
    "for key in dic.keys():\n",
    "    if dic[key] == max_value:\n",
    "        max_list.append(key)\n",
    "    if dic[key] == min_value:\n",
    "        min_list.append(key)\n",
    "\n",
    "print(\"Number appear most: \",max_list)\n",
    "print(\"Number appear lease: \",min_list)\n",
    "\n",
    "print(\"Average value of dict: \",sum(dic.values())/len(dic.values()))"
   ]
  }
 ],
 "metadata": {
  "interpreter": {
   "hash": "dea7d2a8832d14dc1618e74ed0ecd6aa67efcc6d774d08d88ed9a3b62b8fb5ca"
  },
  "kernelspec": {
   "display_name": "Python 3.9.12 ('tung')",
   "language": "python",
   "name": "python3"
  },
  "language_info": {
   "codemirror_mode": {
    "name": "ipython",
    "version": 3
   },
   "file_extension": ".py",
   "mimetype": "text/x-python",
   "name": "python",
   "nbconvert_exporter": "python",
   "pygments_lexer": "ipython3",
   "version": "3.9.12"
  },
  "orig_nbformat": 4
 },
 "nbformat": 4,
 "nbformat_minor": 2
}
